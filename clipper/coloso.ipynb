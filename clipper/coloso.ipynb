{
    "cells": [
        {
            "cell_type": "code",
            "execution_count": 2,
            "source": [
                "import requests\r\n",
                "from requests.compat import urljoin, quote_plus\r\n",
                "from bs4 import BeautifulSoup\r\n",
                "from selenium import webdriver\r\n",
                "from selenium.webdriver.support.ui import WebDriverWait\r\n",
                "from selenium.webdriver.support import expected_conditions as EC\r\n",
                "from selenium.webdriver.common.by import By\r\n",
                "from selenium.webdriver.common.action_chains import ActionChains\r\n",
                "import time\r\n",
                "import re\r\n",
                "import pprint\r\n",
                "from clipper.chromer import get_soup_from_page\r\n",
                "### constants ###\r\n",
                "\r\n",
                "BASE_URL = \"https://coloso.co.kr/\"\r\n",
                "WAIT = 5 # seconds"
            ],
            "outputs": [],
            "metadata": {}
        },
        {
            "cell_type": "code",
            "execution_count": 3,
            "source": [
                "def get_courses():\r\n",
                "    # 옵션설정 및 리턴값 초기화\r\n",
                "    courses_info = []\r\n",
                "\r\n",
                "    # 마우스 오버로 활성화되는 카테고리 리스트 xpath\r\n",
                "    mouse_xpath = '//*[@id=\"nav-menu-1\"]'\r\n",
                "    soup = get_soup_from_page(BASE_URL, mouse_xpath=mouse_xpath)\r\n",
                "    category_links = soup.find('header').find_all('div', class_='nav-menu__block')[1].find_all('a')\r\n",
                "    print(category_links)\r\n",
                "    # category_links = get_categories(category_links)\r\n",
                "\r\n",
                "    # for category in category_links[8:]: # 임시로 제한함.\r\n",
                "    #     print(\"\")\r\n",
                "    #     print(category)\r\n",
                "    #     courses = extract_courses(category)\r\n",
                "    #     courses_info += courses\r\n",
                "    # return courses_info"
            ],
            "outputs": [
                {
                    "output_type": "execute_result",
                    "data": {
                        "text/plain": []
                    },
                    "metadata": {},
                    "execution_count": 3
                }
            ],
            "metadata": {}
        },
        {
            "cell_type": "code",
            "execution_count": null,
            "source": [],
            "outputs": [],
            "metadata": {}
        }
    ],
    "metadata": {
        "orig_nbformat": 4,
        "language_info": {
            "name": "python",
            "version": "3.8.10",
            "mimetype": "text/x-python",
            "codemirror_mode": {
                "name": "ipython",
                "version": 3
            },
            "pygments_lexer": "ipython3",
            "nbconvert_exporter": "python",
            "file_extension": ".py"
        },
        "kernelspec": {
            "name": "python3",
            "display_name": "Python 3.8.10 64-bit ('tilpjw': conda)"
        },
        "interpreter": {
            "hash": "85c4e7a13d391562181632952166d78ad12c3f800fff2459ef2d569e67324ad4"
        }
    },
    "nbformat": 4,
    "nbformat_minor": 2
}